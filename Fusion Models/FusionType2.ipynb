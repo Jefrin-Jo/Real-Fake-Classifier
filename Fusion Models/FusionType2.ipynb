{
  "cells": [
    {
      "cell_type": "code",
      "execution_count": 1,
      "metadata": {
        "colab": {
          "base_uri": "https://localhost:8080/"
        },
        "id": "cnzp47SUq3Xg",
        "outputId": "afbb0933-809d-40dd-e139-f2590fd3f032"
      },
      "outputs": [
        {
          "output_type": "stream",
          "name": "stdout",
          "text": [
            "Mounted at /content/drive\n"
          ]
        }
      ],
      "source": [
        "from google.colab import drive\n",
        "drive.mount('/content/drive')"
      ]
    },
    {
      "cell_type": "markdown",
      "metadata": {
        "id": "0dMCZ9malH49"
      },
      "source": [
        "# Necessary Libraries"
      ]
    },
    {
      "cell_type": "code",
      "execution_count": 2,
      "metadata": {
        "id": "juIBq2IOq3Xr"
      },
      "outputs": [],
      "source": [
        "import os\n",
        "import cv2\n",
        "import numpy as np\n",
        "import matplotlib.pyplot as plt\n",
        "import tensorflow as tf\n",
        "import seaborn as sns\n",
        "from sklearn.model_selection import train_test_split\n",
        "from sklearn.svm import SVC\n",
        "from sklearn.metrics import accuracy_score, precision_score, recall_score, f1_score, roc_curve, auc, confusion_matrix\n",
        "import torch\n",
        "import torch.nn as nn\n",
        "import torch.optim as optim\n",
        "import torchvision.models as models\n",
        "import torchvision.transforms as transforms\n",
        "from torch.utils.data import Dataset, DataLoader"
      ]
    },
    {
      "cell_type": "markdown",
      "metadata": {
        "id": "HQvqcWzGk2GH"
      },
      "source": [
        "# Getting the data"
      ]
    },
    {
      "cell_type": "code",
      "execution_count": null,
      "metadata": {
        "id": "MJrdaUg82kCW"
      },
      "outputs": [],
      "source": [
        "# get data\n",
        "train_folder = '/content/drive/MyDrive/cvpr_proj/face dataset/train'\n",
        "test_folder = '/content/drive/MyDrive/cvpr_proj/face dataset/test'\n",
        "valid_folder = '/content/drive/MyDrive/cvpr_proj/face dataset/valid'"
      ]
    },
    {
      "cell_type": "code",
      "execution_count": null,
      "metadata": {
        "id": "8W4TWLtx-oan"
      },
      "outputs": [],
      "source": [
        "train_images = []\n",
        "train_labels = []\n",
        "test_images = []\n",
        "test_labels = []\n",
        "valid_images = []\n",
        "valid_labels = []"
      ]
    },
    {
      "cell_type": "code",
      "execution_count": null,
      "metadata": {
        "id": "i6tGMNH8q3Xs"
      },
      "outputs": [],
      "source": [
        "for folder in os.listdir(train_folder):\n",
        "    folder_path = os.path.join(train_folder, folder)\n",
        "    label = 0 if folder == 'real' else 1  # label 0 for real images, 1 for deep fake images\n",
        "\n",
        "    for image_file in os.listdir(folder_path):\n",
        "        image_path = os.path.join(folder_path, image_file)\n",
        "        image = cv2.imread(image_path)\n",
        "        image = cv2.resize(image, (128, 128))  # resizing the image to match the input size of the CNN\n",
        "\n",
        "        #convert to tensor\n",
        "        tf_image = tf.convert_to_tensor(image)\n",
        "\n",
        "        #functions for augmentation\n",
        "        aug_lr_img = (tf.image.flip_left_right(tf_image))\n",
        "        aug_ud_img = (tf.image.flip_up_down(tf_image))\n",
        "        aug_90_img = (tf.image.rot90(tf_image, k=1))\n",
        "        aug_brt_img = (tf.image.random_brightness(tf_image, max_delta=0.5))\n",
        "        aug_cont_img = (tf.image.random_contrast(tf_image, 0.1, 0.5))\n",
        "        aug_sat_img = (tf.image.random_saturation(tf_image, 5,10))\n",
        "\n",
        "        #convert augmented tensor into numpy array\n",
        "        ori_img = tf_image\n",
        "        train_images.append(ori_img.numpy())\n",
        "        train_images.append(aug_lr_img.numpy())\n",
        "        train_images.append(aug_ud_img.numpy())\n",
        "        train_images.append(aug_90_img.numpy())\n",
        "        train_images.append(aug_brt_img.numpy())\n",
        "        train_images.append(aug_cont_img.numpy())\n",
        "        train_images.append(aug_sat_img.numpy())\n",
        "\n",
        "        #add labels for the images\n",
        "        for i in range(7):\n",
        "          train_labels.append(label)\n"
      ]
    },
    {
      "cell_type": "code",
      "execution_count": null,
      "metadata": {
        "id": "opc9Ik-12W7I"
      },
      "outputs": [],
      "source": [
        "for folder in os.listdir(test_folder):\n",
        "    folder_path = os.path.join(test_folder, folder)\n",
        "    label = 0 if folder == 'real' else 1  # label 0 for real images, 1 for deep fake images\n",
        "\n",
        "    for image_file in os.listdir(folder_path):\n",
        "        image_path = os.path.join(folder_path, image_file)\n",
        "        image = cv2.imread(image_path)\n",
        "        image = cv2.resize(image, (128, 128))  # resizing the image to match the input size of the CNN\n",
        "        test_images.append(image)\n",
        "        test_labels.append(label)"
      ]
    },
    {
      "cell_type": "code",
      "execution_count": null,
      "metadata": {
        "id": "K24x36pA-44e"
      },
      "outputs": [],
      "source": [
        "valid_images = []\n",
        "valid_labels = []"
      ]
    },
    {
      "cell_type": "code",
      "execution_count": null,
      "metadata": {
        "id": "haKwqstD2Y8z"
      },
      "outputs": [],
      "source": [
        "for folder in os.listdir(valid_folder):\n",
        "    folder_path = os.path.join(valid_folder, folder)\n",
        "    label = 0 if folder == 'real' else 1  # label 0 for real images, 1 for deep fake images\n",
        "\n",
        "    for image_file in os.listdir(folder_path):\n",
        "        image_path = os.path.join(folder_path, image_file)\n",
        "        image = cv2.imread(image_path)\n",
        "        image = cv2.resize(image, (128, 128))  # resizing the image to match the input size of the CNN\n",
        "\n",
        "        #convert to tensor\n",
        "        tf_image = tf.convert_to_tensor(image)\n",
        "\n",
        "        #functions for augmentation\n",
        "        aug_lr_img = (tf.image.flip_left_right(tf_image))\n",
        "        aug_ud_img = (tf.image.flip_up_down(tf_image))\n",
        "        aug_90_img = (tf.image.rot90(tf_image, k=1))\n",
        "        aug_brt_img = (tf.image.random_brightness(tf_image, max_delta=0.5))\n",
        "        aug_cont_img = (tf.image.random_contrast(tf_image, 0.1, 0.5))\n",
        "        aug_sat_img = (tf.image.random_saturation(tf_image, 5,10))\n",
        "\n",
        "        #convert augmented tensor into numpy array\n",
        "        ori_img = tf_image\n",
        "        valid_images.append(ori_img.numpy())\n",
        "        valid_images.append(aug_lr_img.numpy())\n",
        "        valid_images.append(aug_ud_img.numpy())\n",
        "        valid_images.append(aug_90_img.numpy())\n",
        "        valid_images.append(aug_brt_img.numpy())\n",
        "        valid_images.append(aug_cont_img.numpy())\n",
        "        valid_images.append(aug_sat_img.numpy())\n",
        "\n",
        "        #add labels for the images\n",
        "        for i in range(7):\n",
        "          valid_labels.append(label)"
      ]
    },
    {
      "cell_type": "code",
      "execution_count": 3,
      "metadata": {
        "id": "XxSUBttP2azI"
      },
      "outputs": [],
      "source": [
        "# custom dataset class for loading the images\n",
        "class CustomDataset(Dataset):\n",
        "    def __init__(self, images, ela_images, labels, transform=None):\n",
        "        self.images = images\n",
        "        self.ela_images = ela_images\n",
        "        self.labels = labels\n",
        "        self.transform = transform\n",
        "\n",
        "    def __len__(self):\n",
        "        return len(self.images)\n",
        "\n",
        "    def __getitem__(self, index):\n",
        "        image = self.images[index]\n",
        "        ela_image = self.ela_images[index]\n",
        "        label = self.labels[index]\n",
        "\n",
        "        if self.transform:\n",
        "            image = self.transform(image)\n",
        "            ela_image = self.transform(ela_image)\n",
        "\n",
        "        return image, ela_image, label"
      ]
    },
    {
      "cell_type": "code",
      "execution_count": null,
      "metadata": {
        "id": "g-4u-qQP2cyR"
      },
      "outputs": [],
      "source": [
        "# convert the lists to NumPy arrays\n",
        "train_images = np.array(train_images, dtype='float32')\n",
        "train_labels = np.array(train_labels)"
      ]
    },
    {
      "cell_type": "code",
      "execution_count": null,
      "metadata": {
        "id": "G8ogePm_3WgR"
      },
      "outputs": [],
      "source": [
        "test_images = np.array(test_images, dtype='float32')\n",
        "test_labels = np.array(test_labels)"
      ]
    },
    {
      "cell_type": "code",
      "execution_count": null,
      "metadata": {
        "id": "Edlj--Yv3XvR"
      },
      "outputs": [],
      "source": [
        "valid_images = np.array(valid_images, dtype='float32')\n",
        "valid_labels = np.array(valid_labels)"
      ]
    },
    {
      "cell_type": "markdown",
      "metadata": {
        "id": "tQdpwfXKkrgv"
      },
      "source": [
        "# Pre-Processing"
      ]
    },
    {
      "cell_type": "code",
      "execution_count": null,
      "metadata": {
        "id": "cd6A3EKaq3Xt"
      },
      "outputs": [],
      "source": [
        "# error level analysis (ELA)\n",
        "def ela(image):\n",
        "    temp_filename = 'temp.jpg'\n",
        "    cv2.imwrite(temp_filename, image, [cv2.IMWRITE_JPEG_QUALITY, 90])\n",
        "    temp_image = cv2.imread(temp_filename)\n",
        "    temp_image = temp_image.astype(image.dtype)\n",
        "    diff = cv2.absdiff(image, temp_image)\n",
        "    ela_image = cv2.convertScaleAbs(diff, alpha=80, beta=-30)\n",
        "    os.remove(temp_filename)\n",
        "    return ela_image\n",
        "\n",
        "train_ela = np.array([ela(image) for image in train_images])\n",
        "test_ela = np.array([ela(image) for image in test_images])\n",
        "valid_ela = np.array([ela(image) for image in valid_images])\n",
        "\n",
        "\n",
        "# Preprocess the ELA images using PyTorch transforms\n",
        "transform = transforms.Compose([\n",
        "    transforms.ToTensor(),\n",
        "    transforms.Normalize(mean=[0.485, 0.456, 0.406], std=[0.229, 0.224, 0.225])\n",
        "])"
      ]
    },
    {
      "cell_type": "code",
      "execution_count": null,
      "metadata": {
        "id": "OKDqs94R2o7n"
      },
      "outputs": [],
      "source": [
        "# Create custom datasets for training and testing\n",
        "train_dataset = CustomDataset(train_images, train_ela, train_labels, transform=transform)\n",
        "test_dataset = CustomDataset(test_images, test_ela, test_labels, transform=transform)\n",
        "valid_dataset = CustomDataset(valid_images, valid_ela, valid_labels, transform=transform)"
      ]
    },
    {
      "cell_type": "code",
      "execution_count": null,
      "metadata": {
        "id": "j7H1d2it2m59"
      },
      "outputs": [],
      "source": [
        "# Create data loaders for training and testing\n",
        "train_loader = DataLoader(train_dataset, batch_size=32, shuffle=True)\n",
        "test_loader = DataLoader(test_dataset, batch_size=32, shuffle=False)\n",
        "valid_loader = DataLoader(valid_dataset, batch_size=32, shuffle=False)"
      ]
    },
    {
      "cell_type": "markdown",
      "metadata": {
        "id": "qJgtKPk0wfaK"
      },
      "source": [
        "# Model"
      ]
    },
    {
      "cell_type": "code",
      "execution_count": 4,
      "metadata": {
        "id": "LtQo3xLXQbnZ"
      },
      "outputs": [],
      "source": [
        "import pickle\n",
        "#Load the loaders\n",
        "with open('/content/drive/MyDrive/HKBU/CVPR/data_loaders.pkl', 'rb') as f:\n",
        "    train_loader, test_loader, valid_loader = pickle.load(f)"
      ]
    },
    {
      "cell_type": "code",
      "execution_count": 5,
      "metadata": {
        "id": "eoXouPBGwhzd"
      },
      "outputs": [],
      "source": [
        "# # Load the pre-trained MobileNet model\n",
        "# model = models.mobilenet_v2(pretrained=True)\n",
        "# model.classifier[1] = nn.Linear(1280, 2)  # Replace the final fully connected layer for binary classification\n",
        "\n",
        "# device = torch.device(\"cuda\" if torch.cuda.is_available() else \"cpu\")\n",
        "# model.to(device)"
      ]
    },
    {
      "cell_type": "code",
      "source": [
        "import torch\n",
        "import torch.nn as nn"
      ],
      "metadata": {
        "id": "aYx0iFcXYnRJ"
      },
      "execution_count": 6,
      "outputs": []
    },
    {
      "cell_type": "code",
      "source": [
        "class CustomCNN(nn.Module):\n",
        "    def __init__(self):\n",
        "        super(CustomCNN, self).__init__()\n",
        "\n",
        "        self.conv1 = nn.Conv2d(3, 32, kernel_size=3, stride=1, padding=0)\n",
        "        self.relu1 = nn.ReLU()\n",
        "        self.maxpool1 = nn.MaxPool2d(kernel_size=2, stride=2)\n",
        "        self.dropout1 = nn.Dropout2d(0.2)\n",
        "\n",
        "        self.conv2 = nn.Conv2d(32, 64, kernel_size=3, stride=1, padding=0)\n",
        "        self.relu2 = nn.ReLU()\n",
        "        self.maxpool2 = nn.MaxPool2d(kernel_size=2, stride=2)\n",
        "\n",
        "        self.conv3 = nn.Conv2d(64, 128, kernel_size=3, stride=1, padding=0)\n",
        "        self.relu3 = nn.ReLU()\n",
        "        self.maxpool3 = nn.MaxPool2d(kernel_size=2, stride=2)\n",
        "        self.dropout2 = nn.Dropout2d(0.2)\n",
        "\n",
        "        self.conv4 = nn.Conv2d(128, 256, kernel_size=3, stride=1, padding=0)\n",
        "        self.relu4 = nn.ReLU()\n",
        "        self.maxpool4 = nn.MaxPool2d(kernel_size=2, stride=2)\n",
        "\n",
        "        self.flatten = nn.Flatten()\n",
        "\n",
        "    def forward(self, x):\n",
        "        x = self.conv1(x)\n",
        "        x = self.relu1(x)\n",
        "        x = self.maxpool1(x)\n",
        "        x = self.dropout1(x)\n",
        "\n",
        "        x = self.conv2(x)\n",
        "        x = self.relu2(x)\n",
        "        x = self.maxpool2(x)\n",
        "\n",
        "        x = self.conv3(x)\n",
        "        x = self.relu3(x)\n",
        "        x = self.maxpool3(x)\n",
        "        x = self.dropout2(x)\n",
        "\n",
        "        x = self.conv4(x)\n",
        "        x = self.relu4(x)\n",
        "        x = self.maxpool4(x)\n",
        "\n",
        "        x = self.flatten(x)\n",
        "\n",
        "        return x\n"
      ],
      "metadata": {
        "id": "-W03G6BZYSMM"
      },
      "execution_count": 17,
      "outputs": []
    },
    {
      "cell_type": "code",
      "source": [
        "def build_model():\n",
        "    model = CustomCNN()\n",
        "    return model"
      ],
      "metadata": {
        "id": "K6pO8vnmYpDm"
      },
      "execution_count": 18,
      "outputs": []
    },
    {
      "cell_type": "code",
      "source": [
        "from torchvision import models\n",
        "from torchsummary import summary"
      ],
      "metadata": {
        "id": "Ri0dmzTIaWQ6"
      },
      "execution_count": 19,
      "outputs": []
    },
    {
      "cell_type": "code",
      "source": [
        "model1 = build_model()\n",
        "print(model1)"
      ],
      "metadata": {
        "id": "W_hr6OliYr2h",
        "colab": {
          "base_uri": "https://localhost:8080/"
        },
        "outputId": "f5a1e2e5-e594-4445-c3be-33b7a576b9b6"
      },
      "execution_count": 20,
      "outputs": [
        {
          "output_type": "stream",
          "name": "stdout",
          "text": [
            "CustomCNN(\n",
            "  (conv1): Conv2d(3, 32, kernel_size=(3, 3), stride=(1, 1))\n",
            "  (relu1): ReLU()\n",
            "  (maxpool1): MaxPool2d(kernel_size=2, stride=2, padding=0, dilation=1, ceil_mode=False)\n",
            "  (dropout1): Dropout2d(p=0.2, inplace=False)\n",
            "  (conv2): Conv2d(32, 64, kernel_size=(3, 3), stride=(1, 1))\n",
            "  (relu2): ReLU()\n",
            "  (maxpool2): MaxPool2d(kernel_size=2, stride=2, padding=0, dilation=1, ceil_mode=False)\n",
            "  (conv3): Conv2d(64, 128, kernel_size=(3, 3), stride=(1, 1))\n",
            "  (relu3): ReLU()\n",
            "  (maxpool3): MaxPool2d(kernel_size=2, stride=2, padding=0, dilation=1, ceil_mode=False)\n",
            "  (dropout2): Dropout2d(p=0.2, inplace=False)\n",
            "  (conv4): Conv2d(128, 256, kernel_size=(3, 3), stride=(1, 1))\n",
            "  (relu4): ReLU()\n",
            "  (maxpool4): MaxPool2d(kernel_size=2, stride=2, padding=0, dilation=1, ceil_mode=False)\n",
            "  (flatten): Flatten(start_dim=1, end_dim=-1)\n",
            ")\n"
          ]
        }
      ]
    },
    {
      "cell_type": "code",
      "source": [
        "model2 = build_model()\n",
        "print(model2)"
      ],
      "metadata": {
        "colab": {
          "base_uri": "https://localhost:8080/"
        },
        "id": "Obo_2vd5bNGS",
        "outputId": "ef5b6819-bbd6-4152-8b31-ad581ca9ac74"
      },
      "execution_count": 21,
      "outputs": [
        {
          "output_type": "stream",
          "name": "stdout",
          "text": [
            "CustomCNN(\n",
            "  (conv1): Conv2d(3, 32, kernel_size=(3, 3), stride=(1, 1))\n",
            "  (relu1): ReLU()\n",
            "  (maxpool1): MaxPool2d(kernel_size=2, stride=2, padding=0, dilation=1, ceil_mode=False)\n",
            "  (dropout1): Dropout2d(p=0.2, inplace=False)\n",
            "  (conv2): Conv2d(32, 64, kernel_size=(3, 3), stride=(1, 1))\n",
            "  (relu2): ReLU()\n",
            "  (maxpool2): MaxPool2d(kernel_size=2, stride=2, padding=0, dilation=1, ceil_mode=False)\n",
            "  (conv3): Conv2d(64, 128, kernel_size=(3, 3), stride=(1, 1))\n",
            "  (relu3): ReLU()\n",
            "  (maxpool3): MaxPool2d(kernel_size=2, stride=2, padding=0, dilation=1, ceil_mode=False)\n",
            "  (dropout2): Dropout2d(p=0.2, inplace=False)\n",
            "  (conv4): Conv2d(128, 256, kernel_size=(3, 3), stride=(1, 1))\n",
            "  (relu4): ReLU()\n",
            "  (maxpool4): MaxPool2d(kernel_size=2, stride=2, padding=0, dilation=1, ceil_mode=False)\n",
            "  (flatten): Flatten(start_dim=1, end_dim=-1)\n",
            ")\n"
          ]
        }
      ]
    },
    {
      "cell_type": "code",
      "execution_count": 22,
      "metadata": {
        "id": "EZ1LKPqkLikL",
        "colab": {
          "base_uri": "https://localhost:8080/"
        },
        "outputId": "4f7fb8dc-311e-4e21-8c4a-74bfa347aad5"
      },
      "outputs": [
        {
          "output_type": "execute_result",
          "data": {
            "text/plain": [
              "ConcatenatedModel(\n",
              "  (original_branch): CustomCNN(\n",
              "    (conv1): Conv2d(3, 32, kernel_size=(3, 3), stride=(1, 1))\n",
              "    (relu1): ReLU()\n",
              "    (maxpool1): MaxPool2d(kernel_size=2, stride=2, padding=0, dilation=1, ceil_mode=False)\n",
              "    (dropout1): Dropout2d(p=0.2, inplace=False)\n",
              "    (conv2): Conv2d(32, 64, kernel_size=(3, 3), stride=(1, 1))\n",
              "    (relu2): ReLU()\n",
              "    (maxpool2): MaxPool2d(kernel_size=2, stride=2, padding=0, dilation=1, ceil_mode=False)\n",
              "    (conv3): Conv2d(64, 128, kernel_size=(3, 3), stride=(1, 1))\n",
              "    (relu3): ReLU()\n",
              "    (maxpool3): MaxPool2d(kernel_size=2, stride=2, padding=0, dilation=1, ceil_mode=False)\n",
              "    (dropout2): Dropout2d(p=0.2, inplace=False)\n",
              "    (conv4): Conv2d(128, 256, kernel_size=(3, 3), stride=(1, 1))\n",
              "    (relu4): ReLU()\n",
              "    (maxpool4): MaxPool2d(kernel_size=2, stride=2, padding=0, dilation=1, ceil_mode=False)\n",
              "    (flatten): Flatten(start_dim=1, end_dim=-1)\n",
              "  )\n",
              "  (ela_branch): CustomCNN(\n",
              "    (conv1): Conv2d(3, 32, kernel_size=(3, 3), stride=(1, 1))\n",
              "    (relu1): ReLU()\n",
              "    (maxpool1): MaxPool2d(kernel_size=2, stride=2, padding=0, dilation=1, ceil_mode=False)\n",
              "    (dropout1): Dropout2d(p=0.2, inplace=False)\n",
              "    (conv2): Conv2d(32, 64, kernel_size=(3, 3), stride=(1, 1))\n",
              "    (relu2): ReLU()\n",
              "    (maxpool2): MaxPool2d(kernel_size=2, stride=2, padding=0, dilation=1, ceil_mode=False)\n",
              "    (conv3): Conv2d(64, 128, kernel_size=(3, 3), stride=(1, 1))\n",
              "    (relu3): ReLU()\n",
              "    (maxpool3): MaxPool2d(kernel_size=2, stride=2, padding=0, dilation=1, ceil_mode=False)\n",
              "    (dropout2): Dropout2d(p=0.2, inplace=False)\n",
              "    (conv4): Conv2d(128, 256, kernel_size=(3, 3), stride=(1, 1))\n",
              "    (relu4): ReLU()\n",
              "    (maxpool4): MaxPool2d(kernel_size=2, stride=2, padding=0, dilation=1, ceil_mode=False)\n",
              "    (flatten): Flatten(start_dim=1, end_dim=-1)\n",
              "  )\n",
              "  (fc): Linear(in_features=18432, out_features=2, bias=True)\n",
              "  (relu): ReLU()\n",
              "  (dropout1): Dropout(p=0.5, inplace=False)\n",
              "  (dropout2): Dropout(p=0.5, inplace=False)\n",
              ")"
            ]
          },
          "metadata": {},
          "execution_count": 22
        }
      ],
      "source": [
        "class ConcatenatedModel(nn.Module):\n",
        "    def __init__(self):\n",
        "        super(ConcatenatedModel, self).__init__()\n",
        "        self.original_branch = model1\n",
        "        # self.original_branch.fc = nn.Linear(256, 128)  # for original images\n",
        "        self.ela_branch = model2\n",
        "        # self.ela_branch.fc = nn.Linear(256, 128)  # for ELA processed images\n",
        "        self.fc = nn.Linear(18432, 2)  # final fully connected layer for classification\n",
        "        self.relu = nn.ReLU()\n",
        "        self.dropout1 = nn.Dropout(p=0.5)  # dropout probability of 0.5\n",
        "        self.dropout2 = nn.Dropout(p=0.5)  # additional dropout layer\n",
        "\n",
        "    def forward(self, original_images, ela_images):\n",
        "        original_features = self.original_branch(original_images)\n",
        "        original_features = self.relu(original_features)  # Apply ReLU activation\n",
        "        original_features = self.dropout1(original_features)  # Apply Dropout\n",
        "        ela_features = self.ela_branch(ela_images)\n",
        "        ela_features = self.relu(ela_features)  # Apply ReLU activation\n",
        "        ela_features = self.dropout1(ela_features)  # Apply Dropout\n",
        "        concatenated_features = torch.cat((original_features, ela_features), dim=1)\n",
        "        concatenated_features = self.dropout2(concatenated_features)  # Apply additional Dropout\n",
        "        out = self.fc(concatenated_features)\n",
        "        return out\n",
        "\n",
        "\n",
        "model = ConcatenatedModel()\n",
        "\n",
        "device = torch.device(\"cuda\" if torch.cuda.is_available() else \"cpu\")\n",
        "model.to(device)"
      ]
    },
    {
      "cell_type": "markdown",
      "metadata": {
        "id": "GkX-iH0pk8Nx"
      },
      "source": [
        "# Loss Function and Optimizer"
      ]
    },
    {
      "cell_type": "code",
      "execution_count": 23,
      "metadata": {
        "id": "hYGCCJI6bOZK"
      },
      "outputs": [],
      "source": [
        "train_losses = []\n",
        "valid_losses = []\n",
        "train_accuracies = []\n",
        "valid_accuracies = []"
      ]
    },
    {
      "cell_type": "code",
      "execution_count": 24,
      "metadata": {
        "colab": {
          "base_uri": "https://localhost:8080/"
        },
        "id": "7ODTHOkXq3Xt",
        "outputId": "2321bb38-9e96-4c0c-cc1e-8c4dbac6f21c"
      },
      "outputs": [
        {
          "output_type": "stream",
          "name": "stdout",
          "text": [
            "Epoch 1/15 - Train Loss: 1.6887 - Train Accuracy: 0.4971 - Valid Loss: 0.6996 - Valid Accuracy: 0.4403\n",
            "Epoch 2/15 - Train Loss: 0.7214 - Train Accuracy: 0.5220 - Valid Loss: 0.6954 - Valid Accuracy: 0.4703\n",
            "Epoch 3/15 - Train Loss: 0.6952 - Train Accuracy: 0.5445 - Valid Loss: 0.7026 - Valid Accuracy: 0.4620\n",
            "Epoch 4/15 - Train Loss: 0.6871 - Train Accuracy: 0.5624 - Valid Loss: 0.6804 - Valid Accuracy: 0.5723\n",
            "Epoch 5/15 - Train Loss: 0.6819 - Train Accuracy: 0.5742 - Valid Loss: 0.6605 - Valid Accuracy: 0.6165\n",
            "Epoch 6/15 - Train Loss: 0.6753 - Train Accuracy: 0.5789 - Valid Loss: 0.6615 - Valid Accuracy: 0.5923\n",
            "Epoch 7/15 - Train Loss: 0.6737 - Train Accuracy: 0.5878 - Valid Loss: 0.6839 - Valid Accuracy: 0.5464\n",
            "Epoch 8/15 - Train Loss: 0.6705 - Train Accuracy: 0.5915 - Valid Loss: 0.6595 - Valid Accuracy: 0.5973\n",
            "Epoch 9/15 - Train Loss: 0.6645 - Train Accuracy: 0.6061 - Valid Loss: 0.6528 - Valid Accuracy: 0.6132\n",
            "Epoch 10/15 - Train Loss: 0.6628 - Train Accuracy: 0.6004 - Valid Loss: 0.6880 - Valid Accuracy: 0.5464\n",
            "Epoch 11/15 - Train Loss: 0.6581 - Train Accuracy: 0.6085 - Valid Loss: 0.6554 - Valid Accuracy: 0.6048\n",
            "Epoch 12/15 - Train Loss: 0.6571 - Train Accuracy: 0.6115 - Valid Loss: 0.6425 - Valid Accuracy: 0.6366\n",
            "Epoch 13/15 - Train Loss: 0.6529 - Train Accuracy: 0.6197 - Valid Loss: 0.6704 - Valid Accuracy: 0.5773\n",
            "Epoch 14/15 - Train Loss: 0.6511 - Train Accuracy: 0.6206 - Valid Loss: 0.6548 - Valid Accuracy: 0.5940\n",
            "Epoch 15/15 - Train Loss: 0.6501 - Train Accuracy: 0.6198 - Valid Loss: 0.6589 - Valid Accuracy: 0.5873\n"
          ]
        }
      ],
      "source": [
        "# the loss function and optimizer\n",
        "criterion = nn.CrossEntropyLoss()\n",
        "# optimizer = optim.SGD(model.parameters(), lr=0.001, momentum=0.9)\n",
        "optimizer = optim.Adam(model.parameters(), lr=0.0001)\n",
        "\n",
        "# training the model\n",
        "num_epochs = 15\n",
        "for epoch in range(num_epochs):\n",
        "    model.train()\n",
        "    running_loss = 0.0\n",
        "    correct = 0\n",
        "    total = 0\n",
        "\n",
        "    for images, ela_images, labels in train_loader:\n",
        "        images = images.to(device)\n",
        "        ela_images = ela_images.to(device)\n",
        "        labels = labels.to(device)\n",
        "\n",
        "        optimizer.zero_grad()\n",
        "\n",
        "        outputs = model(images, ela_images)\n",
        "        loss = criterion(outputs, labels)\n",
        "        loss.backward()\n",
        "        optimizer.step()\n",
        "\n",
        "        _, predicted = torch.max(outputs.data, 1)\n",
        "        total += labels.size(0)\n",
        "        correct += (predicted == labels).sum().item()\n",
        "\n",
        "        running_loss += loss.item()\n",
        "\n",
        "    train_accuracy = correct / total\n",
        "    train_loss = running_loss / len(train_loader)\n",
        "\n",
        "    model.eval()\n",
        "    running_loss = 0.0\n",
        "    correct = 0\n",
        "    total = 0\n",
        "\n",
        "    with torch.no_grad():\n",
        "        for images, ela_images, labels in valid_loader:\n",
        "            images = images.to(device)\n",
        "            ela_images = ela_images.to(device)\n",
        "            labels = labels.to(device)\n",
        "\n",
        "            outputs = model(images, ela_images)\n",
        "            loss = criterion(outputs, labels)\n",
        "\n",
        "            _, predicted = torch.max(outputs.data, 1)\n",
        "            total += labels.size(0)\n",
        "            correct += (predicted == labels).sum().item()\n",
        "\n",
        "            running_loss += loss.item()\n",
        "\n",
        "    valid_accuracy = correct / total\n",
        "    valid_loss = running_loss / len(valid_loader)\n",
        "\n",
        "    train_losses.append(train_loss)\n",
        "    valid_losses.append(valid_loss)\n",
        "    train_accuracies.append(train_accuracy)\n",
        "    valid_accuracies.append(valid_accuracy)\n",
        "\n",
        "    print(f\"Epoch {epoch+1}/{num_epochs} - Train Loss: {train_loss:.4f} - Train Accuracy: {train_accuracy:.4f} - Valid Loss: {valid_loss:.4f} - Valid Accuracy: {valid_accuracy:.4f}\")"
      ]
    },
    {
      "cell_type": "markdown",
      "metadata": {
        "id": "lLNI3GaplDGb"
      },
      "source": [
        "# Evaluation"
      ]
    },
    {
      "cell_type": "code",
      "execution_count": 25,
      "metadata": {
        "colab": {
          "base_uri": "https://localhost:8080/"
        },
        "id": "d35gseo1q3Xv",
        "outputId": "58afb460-2727-4fbe-ebbb-bcb713ff70e4"
      },
      "outputs": [
        {
          "output_type": "stream",
          "name": "stdout",
          "text": [
            "Accuracy : 62.23 %\n",
            "Precision: 53.95 %\n",
            "Recall   : 0.5829383886255924\n",
            "F1-Score : 0.560364464692483\n"
          ]
        }
      ],
      "source": [
        "# evaluation of the model on the test set\n",
        "model.eval()\n",
        "predicted_labels = []\n",
        "true_labels = []\n",
        "\n",
        "with torch.no_grad():\n",
        "    for images, ela_images, labels in test_loader:\n",
        "        images = images.to(device)\n",
        "        ela_images = ela_images.to(device)\n",
        "        labels = labels.to(device)\n",
        "\n",
        "        outputs = model(images, ela_images)\n",
        "        _, predicted = torch.max(outputs.data, 1)\n",
        "\n",
        "        predicted_labels.extend(predicted.cpu().numpy())\n",
        "        true_labels.extend(labels.cpu().numpy())\n",
        "\n",
        "predicted_labels = np.array(predicted_labels)\n",
        "true_labels = np.array(true_labels)\n",
        "\n",
        "accuracy = accuracy_score(true_labels, predicted_labels)\n",
        "precision = precision_score(true_labels, predicted_labels)\n",
        "recall = recall_score(true_labels, predicted_labels)\n",
        "f1 = f1_score(true_labels, predicted_labels)\n",
        "\n",
        "print(\"Accuracy : %0.2f\" % (accuracy*100),'%')\n",
        "print(\"Precision: %0.2f\" % (precision*100),'%')\n",
        "print(\"Recall   :\", recall)\n",
        "print(\"F1-Score :\", f1)"
      ]
    },
    {
      "cell_type": "code",
      "execution_count": 26,
      "metadata": {
        "colab": {
          "base_uri": "https://localhost:8080/",
          "height": 472
        },
        "id": "zFf7wJQ9oPGB",
        "outputId": "cfa7ec39-a209-412f-bdb0-2906a95ba6d8"
      },
      "outputs": [
        {
          "output_type": "display_data",
          "data": {
            "text/plain": [
              "<Figure size 640x480 with 1 Axes>"
            ],
            "image/png": "[encoded data removed]"
          },
          "metadata": {}
        }
      ],
      "source": [
        "fpr, tpr, thresholds = roc_curve(true_labels, predicted_labels)\n",
        "roc_auc = auc(fpr, tpr)\n",
        "\n",
        "plt.figure()\n",
        "plt.plot(fpr, tpr, color='darkorange', lw=2, label='ROC curve (area = %0.5f)' % roc_auc)\n",
        "plt.plot([0, 1], [0, 1], color='navy', lw=2, linestyle='--')\n",
        "plt.xlim([0.0, 1.0])\n",
        "plt.ylim([0.0, 1.05])\n",
        "plt.xlabel('False Positive Rate')\n",
        "plt.ylabel('True Positive Rate')\n",
        "plt.title('Receiver Operating Characteristic')\n",
        "plt.legend(loc=\"lower right\")\n",
        "plt.show()"
      ]
    },
    {
      "cell_type": "code",
      "execution_count": 27,
      "metadata": {
        "colab": {
          "base_uri": "https://localhost:8080/",
          "height": 472
        },
        "id": "83qZcQkVoR3L",
        "outputId": "5edbdfa0-2d05-4069-b8f7-9f042836bbfb"
      },
      "outputs": [
        {
          "output_type": "display_data",
          "data": {
            "text/plain": [
              "<Figure size 640x480 with 2 Axes>"
            ],
            "image/png": "[encoded data removed]"
          },
          "metadata": {}
        }
      ],
      "source": [
        "confusion = confusion_matrix(true_labels, predicted_labels)\n",
        "\n",
        "plt.figure()\n",
        "sns.heatmap(confusion, annot=True, fmt=\"d\", cmap=\"Reds\")\n",
        "plt.title(\"Confusion Matrix\")\n",
        "plt.xlabel(\"Predicted Label\")\n",
        "plt.ylabel(\"True Label\")\n",
        "plt.show()"
      ]
    },
    {
      "cell_type": "code",
      "execution_count": 28,
      "metadata": {
        "colab": {
          "base_uri": "https://localhost:8080/",
          "height": 607
        },
        "id": "ejVfiIe2aaon",
        "outputId": "b8ccb7a3-33ca-416e-82dc-33950fa262fe"
      },
      "outputs": [
        {
          "output_type": "display_data",
          "data": {
            "text/plain": [
              "<Figure size 1200x600 with 2 Axes>"
            ],
            "image/png": "[encoded data removed]"
          },
          "metadata": {}
        }
      ],
      "source": [
        "fig, axs = plt.subplots(1, 2, figsize=(12, 6))\n",
        "# plot model loss vs epoch\n",
        "axs[0].plot(range(1, num_epochs+1), train_losses, label='Train')\n",
        "axs[0].plot(range(1, num_epochs+1), valid_losses, label='Valid')\n",
        "axs[0].set_xlabel('Epoch')\n",
        "axs[0].set_ylabel('Loss')\n",
        "axs[0].set_title('Model Loss vs Epoch')\n",
        "axs[0].legend()\n",
        "\n",
        "# plot model accuracy vs epoch\n",
        "axs[1].plot(range(1, num_epochs+1), train_accuracies, label='Train')\n",
        "axs[1].plot(range(1, num_epochs+1), valid_accuracies, label='Valid')\n",
        "axs[1].set_xlabel('Epoch')\n",
        "axs[1].set_ylabel('Accuracy')\n",
        "axs[1].set_title('Model Accuracy vs Epoch')\n",
        "axs[1].legend()\n",
        "\n",
        "plt.tight_layout()\n",
        "plt.show()"
      ]
    },
    {
      "cell_type": "code",
      "source": [],
      "metadata": {
        "id": "WE74eKt-XKWh"
      },
      "execution_count": null,
      "outputs": []
    }
  ],
  "metadata": {
    "accelerator": "GPU",
    "colab": {
      "provenance": [],
      "machine_shape": "hm",
      "gpuType": "V100"
    },
    "kernelspec": {
      "display_name": "Python 3",
      "name": "python3"
    },
    "language_info": {
      "name": "python"
    }
  },
  "nbformat": 4,
  "nbformat_minor": 0
}